{
 "cells": [
  {
   "cell_type": "code",
   "execution_count": 19,
   "id": "693efd9e",
   "metadata": {},
   "outputs": [],
   "source": [
    "\n",
    "import numpy as np\n",
    "import matplotlib.pyplot as plt\n",
    "import matplotlib.animation as anim\n",
    "from tqdm import tqdm"
   ]
  },
  {
   "cell_type": "code",
   "execution_count": 20,
   "id": "4db3fba5",
   "metadata": {},
   "outputs": [],
   "source": [
    "class Particle:\n",
    "    \n",
    "    def __init__(self, r0, v0, a0, t, bordes, m=1, radius=2., Id=0):\n",
    "        \n",
    "        self.dt = t[1] - t[0]\n",
    "        \n",
    "        self.bordes=bordes\n",
    "        # Atributos instantaneos\n",
    "        self.r = r0\n",
    "        self.v = v0\n",
    "        self.a = a0\n",
    "        \n",
    "        self.m = m\n",
    "        self.radius = radius\n",
    "        self.Id = Id\n",
    "        \n",
    "        \n",
    "        self.p = self.m*self.v\n",
    "        \n",
    "        self.f = self.m*self.a\n",
    "        \n",
    "        # Historial\n",
    "        \n",
    "        self.R = np.zeros((len(t),len(r0)))\n",
    "        self.V = np.zeros_like(self.R)\n",
    "        self.A = np.zeros_like(self.R)\n",
    "        self.Pz= np.zeros_like(self.R)\n",
    "        \n",
    "        self.F = np.zeros_like(self.R)\n",
    "        \n",
    "        self.P = np.zeros_like(self.R)\n",
    "    \n",
    "        # Fisica\n",
    "        self.K = 20.\n",
    "        \n",
    "        self.VEk = np.zeros(len(t))\n",
    "        self.Pe = np.zeros_like(self.VEk)\n",
    "        \n",
    "        \n",
    "    def Evolution(self,i):\n",
    "        \n",
    "        # quitar esto para agregar los muros\n",
    "        \"\"\"\n",
    "        choque=self.colisionbordes()\n",
    "        \n",
    "        if choque != False:\n",
    "            if choque[1]=='vx':\n",
    "                self.v[0]=-self.v[0]\n",
    "            if choque[1]=='vy':\n",
    "                self.v[1]=-self.v[1]\"\"\"\n",
    "        \n",
    "        self.SetPosition(i)\n",
    "        self.SetVelocity(i)\n",
    "        \n",
    "        self.a = self.f/self.m\n",
    "        \n",
    "        # Euler\n",
    "        \n",
    "#        self.r += self.dt*self.v\n",
    "#        self.v += self.dt*self.a\n",
    "        \n",
    "        # Euler-Cromer\n",
    "        self.v += self.dt*self.a\n",
    "        \n",
    "        self.r += self.dt*self.v\n",
    "        \n",
    "        \n",
    "    def CalculateForce(self,p,i):\n",
    "        \n",
    "        d = np.linalg.norm(self.r - p.r)\n",
    "        \n",
    "        compresion = self.radius + p.radius - d\n",
    "        \n",
    "        if compresion >= 0:\n",
    "            \n",
    "            Fn = self.K * compresion**3\n",
    "            \n",
    "            self.n = (self.r - p.r)/d     \n",
    "            self.f = np.add(self.f,Fn*self.n)\n",
    "            # Falta implementar energía potencial \n",
    "            \n",
    "        \n",
    "            # Energia potencial\n",
    "            f_neta= np.linalg.norm(self.f)\n",
    "            E=((1/4)*self.K*compresion**4)/2\n",
    "            self.Pe[i]=E\n",
    "        \n",
    "        \n",
    "        \n",
    "     \n",
    "    # Aca debes agregar la energía potencial\n",
    "\n",
    "    def ResetForce(self):\n",
    "        self.f[:] = 0.\n",
    "        self.a[:] = 0.\n",
    "    \n",
    "    # Setter\n",
    "    def SetPosition(self,i):\n",
    "        self.R[i] = self.r\n",
    "    \n",
    "    def SetVelocity(self,i):\n",
    "        \n",
    "        self.V[i] = self.v\n",
    "        self.P[i] = self.m*self.v\n",
    "        self.VEk[i] = 0.5*self.m*np.dot(self.v,self.v)\n",
    "        self.Pz[i]= np.dot(self.P[i],self.R[i])\n",
    "       \n",
    "    # Getter\n",
    "    def GetPosition(self,scale=1):\n",
    "        return self.R[::scale]\n",
    "    \n",
    "    def GetVelocity(self,scale=1):\n",
    "        return self.V[::scale]\n",
    " \n",
    "    def GetMomentum(self,scale=1):\n",
    "        return self.P[::scale]\n",
    "    \n",
    "    def GetKineticEnergy(self,scale=1):\n",
    "        return self.VEk[::scale] \n",
    "    \n",
    "    def GetPotentialenergy(self,scale=1):\n",
    "        return self.Pe[::scale] \n",
    "    \n",
    "    def GetPotentialenergyForce(self,scale=1):\n",
    "        return self.Peforce[::scale] \n",
    "    \n",
    "    def GetPz(self,scale):\n",
    "        return self.Pz[::scale]\n",
    "    \n",
    "    \n",
    "    # Debes agregar las paredes en este punto\n",
    "    \n",
    "    def colisionbordes(self):\n",
    "        choque = False\n",
    "        lim_sup =self.bordes[0][1]\n",
    "        lim_inf= self.bordes[0][0]\n",
    "        \n",
    "        if (self.r[0] + self.radius) >= lim_sup: #Verifica choque con la parte derecha de la caja\n",
    "            choque= (True,'vx') # Regresa que hay choque y el eje de V que debe cambiar de signo\n",
    "            \n",
    "        elif (self.r[1] + self.radius) >= lim_sup: # Verifica choque con la parte superior de la caja\n",
    "            choque= (True,'vy') \n",
    "            \n",
    "        elif (self.r[0] - self.radius) <= lim_inf : #Verifica choque con la parte izquierda de la caja\n",
    "            choque= (True,'vx')\n",
    "            \n",
    "        elif (self.r[1] - self.radius) <= lim_inf: #Verifica choque con la parte inferior de la caja\n",
    "            choque= (True,'vy')\n",
    "        \n",
    "        return False"
   ]
  },
  {
   "cell_type": "code",
   "execution_count": 21,
   "id": "372e6b52",
   "metadata": {},
   "outputs": [],
   "source": [
    "def solapar(particles,rx,ry):\n",
    "    solapar=False\n",
    "    \n",
    "    for p in particles:\n",
    "        px=p.r[0]\n",
    "        py=p.r[1]\n",
    "            \n",
    "        if (rx+px)**2 + (ry-py)**2 <= 2:\n",
    "            solapar=True\n",
    "            \n",
    "    return solapar\n",
    "    \n",
    "    \n",
    "def GetParticles(N,t,bordes):\n",
    "    \n",
    "    particles=[]\n",
    "    \n",
    "    rx=np.random.uniform(0,bordes[0][1]-2)\n",
    "    ry=np.random.uniform(0,bordes[0][1]-2)\n",
    "    \n",
    "    v= np.random.uniform(-5,5.,) # normal aleatoria de la velocidad\n",
    "    angulo=np.random.uniform(0,2*np.pi) #escoge un angulo aleatorio\n",
    "    vx=v*np.cos(angulo) # vx de la velocidad\n",
    "    vy= v*np.sin(angulo) # vy de la velocidad\n",
    "    \n",
    "    # Asignacion de parametros\n",
    "    r0=np.array([rx,ry])\n",
    "    v0=np.array([vx,vy])\n",
    "    a0=np.array([0.,0.])\n",
    "    \n",
    "    p0 = Particle(r0,v0,a0,t,bordes,m=1,radius=2,Id=0)\n",
    "    \n",
    "    particles.append(p0)\n",
    "    \n",
    "    \n",
    "    for _ in range(N-1): #evalua cada particula\n",
    "        \n",
    "        if len (particles) >=1:\n",
    "            seguir= True\n",
    "            while seguir == True:\n",
    "                rx=np.random.uniform(-(bordes[0][1]-2),bordes[0][1]-2)\n",
    "                ry=np.random.uniform(-(bordes[0][1]-2),bordes[0][1]-2)\n",
    "            \n",
    "                solapa=solapar(particles,rx,ry)\n",
    "                \n",
    "                if solapa == False:\n",
    "                    \n",
    "                    seguir = False\n",
    "                    # Creacion aleatoria de v \n",
    "                    v= np.random.uniform(-5.,5.) # normal aleatoria de la velocidad\n",
    "                    angulo=np.random.uniform(0,2*np.pi) #escoge un angulo aleatorio\n",
    "                    vx=v*np.cos(angulo) # vx de la velocidad\n",
    "                    vy= v*np.sin(angulo) # vy de la velocidad\n",
    "                    \n",
    "                    # Asignacion de parametros\n",
    "                    r0=np.array([rx,ry])\n",
    "                    v0=np.array([vx,vy])\n",
    "                    a0=np.array([0.,0.])\n",
    "                    \n",
    "                    # Creacion de la particula\n",
    "                    p0 = Particle(r0,v0,a0,t,bordes,m=1,radius=2,Id=0)\n",
    "                    particles.append(p0)\n",
    "                    \n",
    "    \n",
    "    # Aca deber agregar una rutina montecarlo para crear particulas\n",
    "    # sobre el plano con velocidades aleatorias.\n",
    "    \n",
    "    return particles"
   ]
  },
  {
   "cell_type": "code",
   "execution_count": 22,
   "id": "56e67631",
   "metadata": {},
   "outputs": [],
   "source": [
    "bordes=[[-20,20],[-20,20]]\n",
    "dt = 0.001\n",
    "tmax = 10\n",
    "t = np.arange(0,tmax,dt)\n",
    "Particles = GetParticles(10,t,bordes)"
   ]
  },
  {
   "cell_type": "code",
   "execution_count": null,
   "id": "9ea0330e",
   "metadata": {},
   "outputs": [],
   "source": []
  },
  {
   "cell_type": "code",
   "execution_count": 23,
   "id": "edf88a8c",
   "metadata": {},
   "outputs": [],
   "source": [
    "def RunSimulation(t,Particles):\n",
    "    \n",
    "    for it in tqdm(range(len(t)), desc='Running simulation', unit=' Steps' ):\n",
    "        \n",
    "        for i in range(len(Particles)):\n",
    "            for j in range(len(Particles)):\n",
    "                if i!=j:\n",
    "                    Particles[i].CalculateForce(Particles[j],it)\n",
    "        \n",
    "        for i in range(len(Particles)):\n",
    "            Particles[i].Evolution(it)\n",
    "            Particles[i].ResetForce()\n",
    "            # Aca debes agregar la interaccion con la pared\n",
    "            \n",
    "            \n",
    "    return Particles"
   ]
  },
  {
   "cell_type": "code",
   "execution_count": 24,
   "id": "bcac242d",
   "metadata": {},
   "outputs": [
    {
     "name": "stderr",
     "output_type": "stream",
     "text": [
      "Running simulation: 100%|██████████| 10000/10000 [00:07<00:00, 1260.22 Steps/s]\n"
     ]
    }
   ],
   "source": [
    "Particles = RunSimulation(t,Particles)"
   ]
  },
  {
   "cell_type": "code",
   "execution_count": 25,
   "id": "32609fcd",
   "metadata": {},
   "outputs": [],
   "source": [
    "# Bajamos dimensión de la simulacion\n",
    "scale = 200\n",
    "t1 = t[::scale]"
   ]
  },
  {
   "cell_type": "code",
   "execution_count": 26,
   "id": "97ba705a",
   "metadata": {},
   "outputs": [
    {
     "data": {
      "image/png": "[encoded data removed]",
      "text/plain": [
       "<Figure size 1000x500 with 2 Axes>"
      ]
     },
     "metadata": {},
     "output_type": "display_data"
    }
   ],
   "source": [
    "fig = plt.figure(figsize=(10,5))\n",
    "ax = fig.add_subplot(121)\n",
    "ax1 = fig.add_subplot(122)\n",
    "\n",
    "def init():\n",
    "    \n",
    "    ax.clear()\n",
    "    ax.set_xlim(-20,20)\n",
    "    ax.set_ylim(-20,20)\n",
    "    \n",
    "def Update(i):\n",
    "    \n",
    "    init()\n",
    "    ax.set_title(r't =  %.3f s' %(t1[i]))\n",
    "    \n",
    "    \n",
    "    # Queremos calcular la energía total de cinética\n",
    "    KE = 0. # Kinetic energy\n",
    "    \n",
    "    for p in Particles:\n",
    "        \n",
    "        x = p.GetPosition(scale)[i,0]\n",
    "        y = p.GetPosition(scale)[i,1]\n",
    "        \n",
    "        vx = p.GetVelocity(scale)[i,0]\n",
    "        vy = p.GetVelocity(scale)[i,1]\n",
    "        \n",
    "        circle = plt.Circle( (x,y), p.radius, color='r', fill=False )\n",
    "        ax.add_patch(circle)\n",
    "        \n",
    "        ax.arrow(x,y,vx,vy,color='k',head_width=0.5,length_includes_head=True)\n",
    "        \n",
    "        KE += p.GetKineticEnergy(scale)[i]\n",
    "        \n",
    "        ax1.set_title(r'Total kinetic Energy: {:.3f}'.format(KE))\n",
    "        ax1.scatter(t1[:i], p.GetKineticEnergy(scale)[:i],color='k',marker='.')\n",
    "        \n",
    "Animation = anim.FuncAnimation(fig,Update,frames=len(t1),init_func=init)"
   ]
  },
  {
   "cell_type": "code",
   "execution_count": 27,
   "id": "c57abf83",
   "metadata": {},
   "outputs": [],
   "source": [
    "\n",
    "#Animation.save('EsferaDura.gif', writer='pillow',fps=10)"
   ]
  },
  {
   "cell_type": "markdown",
   "id": "dbcba15d",
   "metadata": {},
   "source": [
    "### Puntos a y b\n",
    "##### Grafica del momento angular en \"x\" y en \"y\""
   ]
  },
  {
   "cell_type": "code",
   "execution_count": 28,
   "id": "1a74d929",
   "metadata": {},
   "outputs": [],
   "source": [
    "MomentumT = Particles[0].GetMomentum(scale)\n",
    "Potential = Particles[0].GetPotentialenergy(scale)\n"
   ]
  },
  {
   "cell_type": "code",
   "execution_count": 29,
   "id": "c5812ac9",
   "metadata": {},
   "outputs": [],
   "source": [
    "for i in range(1,len(Particles)):\n",
    "    MomentumT = np.add(MomentumT,Particles[i].GetMomentum(scale))\n",
    "    Potential = np.add(Potential,Particles[i].GetPotentialenergy(scale))\n"
   ]
  },
  {
   "cell_type": "code",
   "execution_count": 30,
   "id": "089b50b5",
   "metadata": {},
   "outputs": [
    {
     "data": {
      "image/png": "[encoded data removed]",
      "text/plain": [
       "<Figure size 1000x500 with 1 Axes>"
      ]
     },
     "metadata": {},
     "output_type": "display_data"
    }
   ],
   "source": [
    "fig3 = plt.figure(figsize=(10,5))\n",
    "ax3 = fig3.add_subplot(221)\n",
    "ax3.plot(t1,MomentumT[:,0],label='px')\n",
    "ax3.plot(t1,MomentumT[:,1],label='py')\n",
    "ax3.legend()\n",
    "plt.show()"
   ]
  },
  {
   "cell_type": "markdown",
   "id": "5f6e61d7",
   "metadata": {},
   "source": [
    "#### Dado que no estamos teniendo en cuenta la interaccion con los bordes, si no solo la interaccion entre objetos, el momento angular tanto en el eje x como en el eje y se deberia conservar. Esto es lo que se puede observar en la grafica"
   ]
  },
  {
   "cell_type": "markdown",
   "id": "e871ae6a",
   "metadata": {},
   "source": [
    "### Punto D, E y F\n",
    "##### Grafica de la energia cinetica,potencial y mecanica"
   ]
  },
  {
   "cell_type": "code",
   "execution_count": 31,
   "id": "adce5376",
   "metadata": {},
   "outputs": [],
   "source": [
    "KEnergy=Particles[0].GetKineticEnergy(scale)\n",
    "Pe=Particles[0].GetPotentialenergy(scale)\n",
    "for i in range(1,len(Particles)):\n",
    "    KEnergy= np.add(KEnergy,Particles[i].GetKineticEnergy(scale))\n",
    "    Pe= np.add(Pe,Particles[i].GetPotentialenergy(scale))\n"
   ]
  },
  {
   "cell_type": "code",
   "execution_count": 32,
   "id": "bde70366",
   "metadata": {},
   "outputs": [
    {
     "data": {
      "text/plain": [
       "<matplotlib.legend.Legend at 0x1b3392523d0>"
      ]
     },
     "execution_count": 32,
     "metadata": {},
     "output_type": "execute_result"
    },
    {
     "data": {
      "image/png": "[encoded data removed]",
      "text/plain": [
       "<Figure size 640x480 with 1 Axes>"
      ]
     },
     "metadata": {},
     "output_type": "display_data"
    }
   ],
   "source": [
    "plt.plot(t1,KEnergy,label='KE')\n",
    "plt.plot(t1,Pe,label='Potential E')\n",
    "plt.legend()\n",
    "\n"
   ]
  },
  {
   "cell_type": "markdown",
   "id": "7f8fd831",
   "metadata": {},
   "source": [
    "#### La energía cinética del sistema no se conserva, es decir no se mantiene constante en todo tiempo t. Esto se debe a que cuando los objetos están chocando unos con otros, se acumula energía potencial debido a la compresión de estos. \n",
    "\n"
   ]
  },
  {
   "cell_type": "code",
   "execution_count": 33,
   "id": "a8af01cd",
   "metadata": {},
   "outputs": [
    {
     "data": {
      "text/plain": [
       "<matplotlib.legend.Legend at 0x1b3378a89d0>"
      ]
     },
     "execution_count": 33,
     "metadata": {},
     "output_type": "execute_result"
    },
    {
     "data": {
      "image/png": "[encoded data removed]",
      "text/plain": [
       "<Figure size 640x480 with 1 Axes>"
      ]
     },
     "metadata": {},
     "output_type": "display_data"
    }
   ],
   "source": [
    "plt.plot(t1,KEnergy+Pe,label=('k+p'))\n",
    "plt.legend()"
   ]
  },
  {
   "cell_type": "markdown",
   "id": "9586e0ee",
   "metadata": {},
   "source": [
    "#### Sin embargo, como se puede observar en la gráfica, la energía total del sistema(mecánica) pareciera no mantenerse constante en todo tiempo t, sin embargo, esto se debe principalmente a que el metodo se Euler no es el metodo mas preciso que existe, y por eso puede presentar impresiciones. \n",
    "#### No obstante, estas diferencias son variaciones bastante pequeñas, por lo tanto, físicamente se puede decir que en la simulación la energía total del sistema se está conservando, lo que es lo esperado ya que no hay presencia de fuerzas externas "
   ]
  },
  {
   "cell_type": "markdown",
   "id": "163351ad",
   "metadata": {},
   "source": [
    "### Punto (h)"
   ]
  },
  {
   "cell_type": "code",
   "execution_count": null,
   "id": "2b694860",
   "metadata": {},
   "outputs": [],
   "source": [
    "pz=Particles[0].GetPz()"
   ]
  }
 ],
 "metadata": {
  "kernelspec": {
   "display_name": "Python 3 (ipykernel)",
   "language": "python",
   "name": "python3"
  },
  "language_info": {
   "codemirror_mode": {
    "name": "ipython",
    "version": 3
   },
   "file_extension": ".py",
   "mimetype": "text/x-python",
   "name": "python",
   "nbconvert_exporter": "python",
   "pygments_lexer": "ipython3",
   "version": "3.11.4"
  }
 },
 "nbformat": 4,
 "nbformat_minor": 5
}
