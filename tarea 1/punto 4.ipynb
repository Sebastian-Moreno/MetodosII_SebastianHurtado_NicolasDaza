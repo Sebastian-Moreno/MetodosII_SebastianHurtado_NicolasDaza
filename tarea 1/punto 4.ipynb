{
 "cells": [
  {
   "cell_type": "code",
   "execution_count": 1,
   "metadata": {},
   "outputs": [],
   "source": [
    "import numpy as np\n",
    "import matplotlib.pyplot as plt\n",
    "import matplotlib.animation as anim\n",
    "from tqdm import tqdm \n"
   ]
  },
  {
   "cell_type": "code",
   "execution_count": 2,
   "metadata": {},
   "outputs": [],
   "source": [
    "class Planeta:\n",
    "    \n",
    "    def __init__(self, e, a, t):\n",
    "        \n",
    "        self.t = t\n",
    "        self.dt = t[1] - t[0] # Paso del tiempo\n",
    "        \n",
    "        self.e = e # Excentricidad\n",
    "        self.a_ = a # Semi-eje mayor\n",
    "        \n",
    "        self.G = 4*np.pi**2 # Unidades gaussianas\n",
    "        \n",
    "        self.r = np.zeros(3)\n",
    "        self.v = np.zeros_like(self.r)\n",
    "        self.a = np.zeros_like(self.r)\n",
    "        \n",
    "        self.r[0] = self.a_*(1-self.e)\n",
    "        self.v[1] = np.sqrt( self.G*(1+self.e)/(self.a_*(1.-self.e)) )\n",
    "        \n",
    "        self.R = np.zeros((len(t),len(self.r)))\n",
    "        self.V = np.zeros_like(self.R)\n",
    "        \n",
    "        # El valor del pasado\n",
    "        self.rp = self.r\n",
    "        \n",
    "    def GetAceleration(self):\n",
    "        \n",
    "        d = np.linalg.norm(self.r)\n",
    "        self.a = -self.G/d**3*self.r\n",
    "        \n",
    "        \n",
    "    def Evolution(self,i):\n",
    "        \n",
    "        self.SetPosition(i)\n",
    "        self.SetVelocity(i)\n",
    "        self.GetAceleration()\n",
    "        \n",
    "        if i==0:\n",
    "            self.r = self.rp + self.v*self.dt\n",
    "        else:\n",
    "            \n",
    "            # rp pasado, r presente rf futuro\n",
    "            self.rf = 2*self.r - self.rp + self.a*self.dt**2\n",
    "            self.v = (self.rf - self.rp)/(2*self.dt)\n",
    "            \n",
    "            self.rp = self.r\n",
    "            self.r = self.rf\n",
    "    \n",
    "    def SetPosition(self,i):\n",
    "        self.R[i] = self.r\n",
    "        \n",
    "    def SetVelocity(self,i):\n",
    "        self.V[i] = self.v\n",
    "    \n",
    "    def GetPosition(self,scale=1):\n",
    "        return self.R[::scale]\n",
    "    \n",
    "    def GetVelocity(self,scale=1):\n",
    "        return self.V[::scale]\n",
    "    \n",
    "    def GetPeriodo(self):\n",
    "        \n",
    "        Dist = np.linalg.norm(self.R,axis=1)\n",
    "        \n",
    "        timeup = []\n",
    "        \n",
    "        for i in range(1,len(Dist)-1):\n",
    "            if Dist[i] < Dist[i-1] and Dist[i] < Dist[i+1]:\n",
    "                timeup.append(self.t[i])\n",
    "                \n",
    "        # PAARA OBETENR SOLO EL PRIMERO\n",
    "       \n",
    "        return timeup[0]\n",
    "        \n",
    "        "
   ]
  },
  {
   "cell_type": "code",
   "execution_count": 3,
   "metadata": {},
   "outputs": [],
   "source": [
    "def GetPlanetas(t):\n",
    "    \n",
    "    Mercurio = Planeta(0.2056,0.307,t)\n",
    "    Venus = Planeta(0.0067,0.7233,t)\n",
    "    Tierra = Planeta(0.01671,1.,t)\n",
    "    \n",
    "    return [Mercurio,Venus,Tierra]"
   ]
  },
  {
   "cell_type": "code",
   "execution_count": 4,
   "metadata": {},
   "outputs": [],
   "source": [
    "dt = 0.001\n",
    "tmax = 5\n",
    "t = np.arange(0.,tmax,dt)\n",
    "Planetas = GetPlanetas(t)"
   ]
  },
  {
   "cell_type": "code",
   "execution_count": 5,
   "metadata": {},
   "outputs": [],
   "source": [
    "def RunSimulation(t,Planetas):\n",
    "    \n",
    "    for it in tqdm(range(len(t)), desc='Running simulation', unit=' Steps' ):\n",
    "        \n",
    "        #print(it)\n",
    "        for i in range(len(Planetas)):\n",
    "            Planetas[i].Evolution(it)\n",
    "            # Aca debes agregar la interaccion con la pared\n",
    "            \n",
    "            \n",
    "    return Planetas"
   ]
  },
  {
   "cell_type": "code",
   "execution_count": 6,
   "metadata": {},
   "outputs": [
    {
     "name": "stderr",
     "output_type": "stream",
     "text": [
      "Running simulation:  38%|███▊      | 1903/5000 [00:00<00:00, 8992.50 Steps/s]"
     ]
    },
    {
     "name": "stderr",
     "output_type": "stream",
     "text": [
      "Running simulation: 100%|██████████| 5000/5000 [00:00<00:00, 9023.89 Steps/s]\n"
     ]
    },
    {
     "data": {
      "text/plain": [
       "0.552"
      ]
     },
     "execution_count": 6,
     "metadata": {},
     "output_type": "execute_result"
    }
   ],
   "source": [
    "Planetas = RunSimulation(t,Planetas)\n",
    "Planetas[1].GetPeriodo()"
   ]
  },
  {
   "cell_type": "code",
   "execution_count": 7,
   "metadata": {},
   "outputs": [],
   "source": [
    "scale = 20\n",
    "t1 = t[::scale]\n",
    "#plt.plot(Planetas[0].GetPosition()[:,0],Planetas[0].GetPosition()[:,1])"
   ]
  },
  {
   "cell_type": "code",
   "execution_count": null,
   "metadata": {},
   "outputs": [],
   "source": [
    "fig = plt.figure(figsize=(8,5))\n",
    "ax = fig.add_subplot(221,projection='3d')\n",
    "ax1 = fig.add_subplot(222)\n",
    "ax2 = fig.add_subplot(223)\n",
    "\n",
    "colors=['r','k','b']\n",
    "\n",
    "def init():\n",
    "    \n",
    "    ax.clear()\n",
    "    ax.set_xlim(-1,1)\n",
    "    ax.set_ylim(-1,1)\n",
    "    ax.set_zlim(-1,1)\n",
    "    \n",
    "    ax1.clear()\n",
    "    ax1.set_xlim(-1,1)\n",
    "    ax1.set_ylim(-1,1) \n",
    "    \n",
    "    ax2.clear()\n",
    "    ax2.set_xlim(-2,2)\n",
    "    ax2.set_ylim(-2,2) \n",
    "    \n",
    "def Update(i):\n",
    "    \n",
    "    init()\n",
    "    \n",
    "    for j, p in enumerate(Planetas):\n",
    "        \n",
    "        x = p.GetPosition(scale)[i,0]\n",
    "        y = p.GetPosition(scale)[i,1]\n",
    "        z = p.GetPosition(scale)[i,2]\n",
    "        \n",
    "        vx = p.GetVelocity(scale)[i,0]\n",
    "        vy = p.GetVelocity(scale)[i,1]\n",
    "        vz = p.GetVelocity(scale)[i,2]\n",
    "    \n",
    "        ax.scatter(0,0,0,s=200,color='y')\n",
    "        ax.quiver(x,y,z,vx,vy,vz,color=colors[j],length=0.03)\n",
    "        \n",
    "        ax.scatter(x,y,z,color=colors[j])\n",
    "        \n",
    "        circle = plt.Circle((x,y),0.1,color=colors[j],fill=True)\n",
    "        ax1.add_patch(circle)\n",
    "    \n",
    "    # Mercurio visto desde tierra\n",
    "    Mx = Planetas[0].GetPosition(scale)[:i,0] - Planetas[2].GetPosition(scale)[:i,0]\n",
    "    My = Planetas[0].GetPosition(scale)[:i,1] - Planetas[2].GetPosition(scale)[:i,1]\n",
    "    \n",
    "    # Venus visto desde tierra\n",
    "    Vx = Planetas[1].GetPosition(scale)[:i,0] - Planetas[2].GetPosition(scale)[:i,0]\n",
    "    Vy = Planetas[1].GetPosition(scale)[:i,1] - Planetas[2].GetPosition(scale)[:i,1]\n",
    "    \n",
    "    ax2.scatter(Mx,My,marker='.',label='Mercurio')\n",
    "    ax2.scatter(Vx,Vy,marker='.',label='Venus')\n",
    "    \n",
    "Animation = anim.FuncAnimation(fig,Update,frames=len(t1),init_func=init)"
   ]
  },
  {
   "cell_type": "markdown",
   "metadata": {},
   "source": [
    "#### Creacion de Planetas"
   ]
  },
  {
   "cell_type": "code",
   "execution_count": 9,
   "metadata": {},
   "outputs": [
    {
     "name": "stderr",
     "output_type": "stream",
     "text": [
      "Running simulation: 100%|██████████| 12000/12000 [00:02<00:00, 5949.54 Steps/s]\n"
     ]
    },
    {
     "data": {
      "text/html": [
       "<div>\n",
       "<style scoped>\n",
       "    .dataframe tbody tr th:only-of-type {\n",
       "        vertical-align: middle;\n",
       "    }\n",
       "\n",
       "    .dataframe tbody tr th {\n",
       "        vertical-align: top;\n",
       "    }\n",
       "\n",
       "    .dataframe thead th {\n",
       "        text-align: right;\n",
       "    }\n",
       "</style>\n",
       "<table border=\"1\" class=\"dataframe\">\n",
       "  <thead>\n",
       "    <tr style=\"text-align: right;\">\n",
       "      <th></th>\n",
       "      <th>Planetas</th>\n",
       "      <th>Periodo</th>\n",
       "    </tr>\n",
       "  </thead>\n",
       "  <tbody>\n",
       "    <tr>\n",
       "      <th>0</th>\n",
       "      <td>Mercurio</td>\n",
       "      <td>0.239</td>\n",
       "    </tr>\n",
       "    <tr>\n",
       "      <th>1</th>\n",
       "      <td>Venus</td>\n",
       "      <td>0.546</td>\n",
       "    </tr>\n",
       "    <tr>\n",
       "      <th>2</th>\n",
       "      <td>Tierra</td>\n",
       "      <td>0.970</td>\n",
       "    </tr>\n",
       "    <tr>\n",
       "      <th>3</th>\n",
       "      <td>Marte</td>\n",
       "      <td>1.876</td>\n",
       "    </tr>\n",
       "    <tr>\n",
       "      <th>4</th>\n",
       "      <td>Jupiter</td>\n",
       "      <td>11.847</td>\n",
       "    </tr>\n",
       "  </tbody>\n",
       "</table>\n",
       "</div>"
      ],
      "text/plain": [
       "   Planetas  Periodo\n",
       "0  Mercurio    0.239\n",
       "1     Venus    0.546\n",
       "2    Tierra    0.970\n",
       "3     Marte    1.876\n",
       "4   Jupiter   11.847"
      ]
     },
     "execution_count": 9,
     "metadata": {},
     "output_type": "execute_result"
    }
   ],
   "source": [
    "t_tarea=np.arange(0,12,0.001)\n",
    "\n",
    "#Planetas\n",
    "\n",
    "Mercurio=Planeta(0.2056,0.387,t_tarea)\n",
    "Venus= Planeta(0.006,0.723,t_tarea)\n",
    "Tierra=Planeta(0.0167,1,t_tarea)\n",
    "Marte=Planeta(0.0934,1.524,t_tarea)\n",
    "Jupiter=Planeta(0.0484,5.20,t_tarea)\n",
    "\n",
    "dic_planetas={'Planetas':['Mercurio','Venus','Tierra','Marte','Jupiter']}\n",
    "\n",
    "lista_planetas=[Mercurio,Venus,Tierra,Marte,Jupiter]\n",
    "\n",
    "periodo=[]\n",
    "\n",
    "# Correr simulacion\n",
    "\n",
    "lista_planetas=RunSimulation(t_tarea,lista_planetas)\n",
    "for planeta in lista_planetas:\n",
    "    per=planeta.GetPeriodo()\n",
    "    periodo.append(per)\n",
    "    \n",
    "#Creacion de la tabla \n",
    "\n",
    "import pandas as pd \n",
    "dic_planetas['Periodo']=periodo\n",
    "\n",
    "tabla=pd.DataFrame(dic_planetas)\n",
    "tabla"
   ]
  },
  {
   "cell_type": "code",
   "execution_count": 13,
   "metadata": {},
   "outputs": [
    {
     "data": {
      "image/png": "[encoded data removed]",
      "text/plain": [
       "<Figure size 640x480 with 1 Axes>"
      ]
     },
     "metadata": {},
     "output_type": "display_data"
    }
   ],
   "source": [
    "ejes_cubo=[0.387**3,0.723**3,1,1.524**3,5.20**3]\n",
    "periodo2=[x**2 for x in periodo]\n",
    "\n",
    "#Grafica\n",
    "\n",
    "plt.scatter(ejes_cubo,periodo2,c='red')\n",
    "plt.ylabel(r'$T^2$',fontsize=15)\n",
    "plt.xlabel(r'$x^3$',fontsize=15)\n",
    "plt.show()"
   ]
  },
  {
   "cell_type": "markdown",
   "metadata": {},
   "source": [
    "## Puntos (d) y (e)"
   ]
  },
  {
   "cell_type": "markdown",
   "metadata": {},
   "source": [
    "#### Grafica con la regresion lineal"
   ]
  },
  {
   "cell_type": "code",
   "execution_count": 11,
   "metadata": {},
   "outputs": [
    {
     "name": "stderr",
     "output_type": "stream",
     "text": [
      "No artists with labels found to put in legend.  Note that artists whose label start with an underscore are ignored when legend() is called with no argument.\n"
     ]
    },
    {
     "data": {
      "text/plain": [
       "0.9981682599237188"
      ]
     },
     "execution_count": 11,
     "metadata": {},
     "output_type": "execute_result"
    },
    {
     "data": {
      "image/png": "[encoded data removed]",
      "text/plain": [
       "<Figure size 640x480 with 1 Axes>"
      ]
     },
     "metadata": {},
     "output_type": "display_data"
    }
   ],
   "source": [
    "def regresion(x,y):\n",
    "    promedio_x= np.mean(x)\n",
    "    promedio_y= np.mean(y)\n",
    "    \n",
    "    diferencias_x=[]\n",
    "    diferencias_y=[]\n",
    "    \n",
    "    for i in range(len(x)):\n",
    "        x_ap= x[i]-promedio_x\n",
    "        y_ap= y[i]-promedio_y\n",
    "        \n",
    "        diferencias_x.append(x_ap)\n",
    "        diferencias_y.append(y_ap)\n",
    "        \n",
    "    # calcular la pendiente\n",
    "    \n",
    "    p1=[]\n",
    "    p2=[]\n",
    "    \n",
    "    for i in range(len(x)):\n",
    "        p1.append(x[i]*y[i])\n",
    "        p2.append(x[i]**2)\n",
    "        \n",
    "    p1=sum(p1)\n",
    "    p2=sum(p2)\n",
    "    \n",
    "    pendiente=p1/p2\n",
    "    intercepto=promedio_y-pendiente *promedio_x\n",
    "    \n",
    "    return [pendiente,intercepto]    \n",
    "\n",
    "pendiente,intercepto=regresion(ejes_cubo,periodo2)\n",
    "plt.scatter(ejes_cubo,periodo2,c='red')\n",
    "plt.plot([x for x in range(0,141)],[dato*pendiente + intercepto for dato in range(0,141)],c='blue')\n",
    "plt.xlabel(r'$a^3$',fontsize=16)\n",
    "plt.ylabel(r'$T^2$',fontsize=16)\n",
    "plt.legend()\n",
    "pendiente"
   ]
  },
  {
   "cell_type": "markdown",
   "metadata": {},
   "source": [
    "### Dado que estamos usando unidades astronomicas, y segun la ley de kepler: \n",
    "$T^2 = \\frac{4 \\pi^2}{G M} a^3 $\n",
    "\n",
    "entonces:\n",
    "\n",
    "$m=\\frac{4 \\pi^2}{G M}$\n",
    "\n",
    "$M=\\frac{4 \\pi^2}{G m}$\n",
    "\n",
    "pero como m=1, y el lado derecho es la representacion de la masa del sol en unidades astronomicas,entonces podemos dedcur que el valor de la pendiente es la masa del solm, Lo cual en kg seria $1.98930\\times 10^{30}$\n",
    "\n"
   ]
  },
  {
   "cell_type": "markdown",
   "metadata": {},
   "source": []
  }
 ],
 "metadata": {
  "kernelspec": {
   "display_name": "Python 3",
   "language": "python",
   "name": "python3"
  },
  "language_info": {
   "codemirror_mode": {
    "name": "ipython",
    "version": 3
   },
   "file_extension": ".py",
   "mimetype": "text/x-python",
   "name": "python",
   "nbconvert_exporter": "python",
   "pygments_lexer": "ipython3",
   "version": "3.11.4"
  }
 },
 "nbformat": 4,
 "nbformat_minor": 2
}
