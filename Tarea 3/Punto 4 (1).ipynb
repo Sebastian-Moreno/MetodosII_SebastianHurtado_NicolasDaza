{
  "metadata": {
    "kernelspec": {
      "name": "python",
      "display_name": "Python (Pyodide)",
      "language": "python"
    },
    "language_info": {
      "codemirror_mode": {
        "name": "python",
        "version": 3
      },
      "file_extension": ".py",
      "mimetype": "text/x-python",
      "name": "python",
      "nbconvert_exporter": "python",
      "pygments_lexer": "ipython3",
      "version": "3.8"
    }
  },
  "nbformat_minor": 4,
  "nbformat": 4,
  "cells": [
    {
      "cell_type": "code",
      "source": "import numpy as np\nimport matplotlib.pyplot as plt\nimport matplotlib.animation as anim\nfrom scipy import integrate\n\n# Constants of the system\ngravitational_constant = 6.67e-11\nmass_earth = 5.9736e24\nmass_moon = 0.07349e24\ndistance_earth_moon = 3.844e8\nangular_velocity = 2.6617e-6\nradius_earth = 6.37816e6\nradius_moon = 1.7374e6\n\ndef system_dynamics(coordinates, time):\n    momentum_radial, momentum_angular, radial_distance, angular_position = coordinates\n    delta = gravitational_constant * mass_earth / distance_earth_moon**3\n    mu = mass_moon / mass_earth\n    radial_prime = np.sqrt(1 + radial_distance**2 - 2*radial_distance*np.cos(angular_position - angular_velocity*time))\n\n    drdt = momentum_radial\n    dphidt = momentum_angular / radial_distance**2\n    dPrdt = momentum_angular**2 / radial_distance**3 - delta * (1 / radial_distance**2 + (mu / radial_prime**3) * (radial_distance - np.cos(angular_position - angular_velocity*time)))\n    dP_phidt = -delta * mu * radial_distance / (radial_prime**3) * np.sin(angular_position - angular_velocity*time)\n\n    return np.array([dPrdt, dP_phidt, drdt, dphidt])\n\ndef runge_kutta(f, initial_conditions, time_points):\n    time_step = time_points[1] - time_points[0]\n\n    momentum_radial = np.zeros_like(time_points)\n    momentum_angular = np.zeros_like(time_points)\n    radial_distance = np.zeros_like(time_points)\n    angular_position = np.zeros_like(time_points)\n\n    momentum_radial[0], momentum_angular[0], radial_distance[0], angular_position[0] = initial_conditions\n\n    for i in range(1, len(time_points)):\n        current_state = np.array([momentum_radial[i-1], momentum_angular[i-1], radial_distance[i-1], angular_position[i-1]])\n        current_time = time_points[i-1]\n\n        k1 = f(current_state, current_time)\n        k2 = f(current_state + 0.5*k1*time_step, current_time + 0.5*time_step)\n        k3 = f(current_state + 0.5*k2*time_step, current_time + 0.5*time_step)\n        k4 = f(current_state + k3*time_step, current_time + time_step)\n        increment = (k1 + 2 * k2 + 2 * k3 + k4) * (time_step / 6)\n\n        momentum_radial[i] = momentum_radial[i-1] + increment[0]\n        momentum_angular[i] = momentum_angular[i-1] + increment[1]\n        radial_distance[i] = radial_distance[i-1] + increment[2]\n        angular_position[i] = angular_position[i-1] + increment[3]\n\n    return np.array([momentum_radial, momentum_angular, radial_distance, angular_position])\n\ntime_points = np.arange(0., 1e6, 1)\ninitial_velocity = 11.1e3 / distance_earth_moon\ninitial_angular_position = 0 * np.pi / 180\ninitial_theta = 30 * np.pi / 180\ninitial_radial_distance = radius_earth / distance_earth_moon\nmomentum_radial, momentum_angular = (initial_velocity * np.cos(initial_theta - initial_angular_position), initial_velocity * initial_radial_distance * np.sin(initial_theta - initial_angular_position))\ninitial_conditions = [momentum_radial, momentum_angular, initial_radial_distance, initial_angular_position]\nsolution = runge_kutta(system_dynamics, initial_conditions, time_points)\n\n# Set x and y coordinates of the moon and the satellite\nx_moon = distance_earth_moon * np.cos(angular_velocity * time_points)\ny_moon = distance_earth_moon * np.sin(angular_velocity * time_points)\nx_satellite = solution[2] * np.cos(solution[3]) * distance_earth_moon\ny_satellite = solution[2] * np.sin(solution[3]) * distance_earth_moon\n\nfig = plt.figure(figsize=(5,5))\nax = fig.add_subplot()\nscale = 1000\ntime_days = time_points[::scale] * (1 / 86400)\n\ndef initialize_plot():\n    ax.clear()\n    ax.set_xlim(-4e8, 4e8)\n    ax.set_ylim(-4e8, 4e8)\n\ndef update_plot(i):\n    initialize_plot()\n    ax.scatter(x_moon[::scale][i], y_moon[::scale][i], color='k')\n    ax.scatter(0, 0, color='b')\n    ax.set_title(\"t = {:.4f} Earth days\".format(time_days[i]))\n    ax.scatter(x_satellite[::scale][i], y_satellite[::scale][i], color='red')\n\nanimation = anim.FuncAnimation(fig, update_plot, frames=len(time_points[::scale]), init_func=initialize_plot)\nanimation.save('MoonTrip.gif', writer='pillow')\n",
      "metadata": {
        "trusted": true
      },
      "outputs": [
        {
          "name": "stderr",
          "text": " 85%|████████▌ | 853582/999999 [06:21<01:12, 2022.64it/s]",
          "output_type": "stream"
        }
      ],
      "execution_count": null
    },
    {
      "cell_type": "code",
      "source": "",
      "metadata": {
        "trusted": true
      },
      "outputs": [],
      "execution_count": null
    },
    {
      "cell_type": "code",
      "source": "",
      "metadata": {
        "trusted": true
      },
      "outputs": [],
      "execution_count": null
    }
  ]
}