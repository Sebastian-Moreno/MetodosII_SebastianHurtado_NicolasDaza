{
 "cells": [
  {
   "cell_type": "markdown",
   "metadata": {},
   "source": [
    "### Pratica parcial 2"
   ]
  },
  {
   "cell_type": "code",
   "execution_count": 1,
   "metadata": {},
   "outputs": [],
   "source": [
    "import numpy as np\n",
    "import matplotlib.pyplot as plt"
   ]
  },
  {
   "cell_type": "markdown",
   "metadata": {},
   "source": [
    "##### Algoritmos adaptativos Adams/multon-bashford\n",
    "Se intentara recrear el recorrdio de vanderpol con grado 4 en bashfrod y grado 5 en multon\n",
    "\n"
   ]
  },
  {
   "cell_type": "code",
   "execution_count": 2,
   "metadata": {},
   "outputs": [],
   "source": [
    "def System(r,t,mu=1.5): #Se ajustan los argumentos dentro de la funcion systema para ahorra tiempo de programacion\n",
    "                        # Y tambien para evitar que se ueda olvidar en las futuras funciones                  \n",
    "    x= r[0]\n",
    "    vx=r[1]\n",
    "    dxdt = vx\n",
    "    dvxdt = mu*(1-x**2)*vx - x\n",
    "\n",
    "    return np.array([dxdt,dvxdt])\n",
    "\n",
    "def Rungekutta(f,r0,t,grado=4):\n",
    "    \n",
    "    h= t[1]-t[0]\n",
    "    x=np.zeros_like(t)\n",
    "    vx=np.zeros_like(t)\n",
    "\n",
    "    x[0]=r0[0]\n",
    "    vx[0]=r0[1]\n",
    "\n",
    "    K1=np.zeros(len(r0))\n",
    "    K2=np.zeros(len(r0))\n",
    "    K3=np.zeros(len(r0))\n",
    "    K4=np.zeros(len(r0))\n",
    "    \n",
    "    \n",
    "    if grado!=0:\n",
    "        \n",
    "        for i in range(1,grado):\n",
    "\n",
    "            R=np.array(([x[i-1],vx[i-1]])) #Recordemos que en el vector R van las variables dependientes yn\n",
    "            K1=f(R,t) \n",
    "            \n",
    "            R=np.array(([x[i-1]+0.5*h*K1[0],vx[i-1]*0.5*h*K1[1]]))\n",
    "            K2=f(R,t[i-1]+0.5*h)\n",
    "            \n",
    "            R=np.array(([x[i-1]+0.5*h*K2[0],vx[i-1]*0.5*h*K2[1]]))\n",
    "            K3=f(R,t[i-1]+0.5*h)\n",
    "            \n",
    "            R=np.array(([x[i-1]+h*K3[0],vx[i-1]*0.5*h*K3[1]]))\n",
    "            K4=f(R,t[i-1]+h)\n",
    "            \n",
    "            x[i]=x[i-1] + (h*(K1[0] + 2*K2[0] + 2*K3[0] + K4[0]))/6\n",
    "            vx[i]=vx[i-1] + (h*(K1[1] + 2*K2[1] + 2*K3[1] + K4[1]))/6\n",
    "            \n",
    "    else: \n",
    "        for i in range(1,len(t)):\n",
    "            \n",
    "            a=x[i-1] # x en el valor presente\n",
    "            b=vx[i-1] # velocidad en el valor presente\n",
    "            \n",
    "            R=np.array(([a,b])) #Recordemos que en el vector R van las variables dependientes yn\n",
    "            K1=f(R,t) \n",
    "            \n",
    "            R=np.array(([a+0.5*h*K1[0],b+0.5*h*K1[1]]))\n",
    "            K2=f(R,t[i-1]+0.5*h)\n",
    "            \n",
    "            R=np.array(([a+0.5*h*K2[0],b+0.5*h*K2[1]]))\n",
    "            K3=f(R,t[i-1]+0.5*h)\n",
    "            \n",
    "            R=np.array(([a+h*K3[0],b+ h*K3[1]]))\n",
    "            K4=f(R,t[i-1]+h)\n",
    "            \n",
    "            x[i]=x[i-1] + (h*(K1[0] + 2*K2[0] + 2*K3[0] + K4[0]))/6\n",
    "            vx[i]=vx[i-1] + (h*(K1[1] + 2*K2[1] + 2*K3[1] + K4[1]))/6\n",
    "        \n",
    "    return x,vx\n",
    "\n",
    "def adamsmethod(f,r0,t,grado=4):\n",
    "    \n",
    "    x,vx=Rungekutta(f,r0,t,grado=4)\n",
    "    \n",
    "    h= t[1] -t[0]\n",
    "    x_bash=x.copy() # x bashford\n",
    "    vx_bash=vx.copy() # vx bashford\n",
    "    \n",
    "    x_mul=x.copy() # x multon\n",
    "    vx_mul=vx.copy() # vx multon\n",
    "    \n",
    "    for i in range(grado,len(t)):\n",
    "        \n",
    "        #  Adam bashford de orden 4\n",
    "        \n",
    "        R=np.array([x_bash[i-1],vx_bash[i-1]])\n",
    "        f1_b=55*f(R,t)\n",
    "        \n",
    "        R=np.array([x_bash[i-2],vx_bash[i-2]])\n",
    "        f2_b=-59*f(R,t)\n",
    "        \n",
    "        R=np.array([x_bash[i-3],vx_bash[i-3]])\n",
    "        f3_b=37*f(R,t)\n",
    "        \n",
    "        R=np.array([x_bash[i-4],vx_bash[i-4]])\n",
    "        \n",
    "        f4_b=-9*f(R,t)\n",
    "        \n",
    "        summ=f1_b + f2_b + f3_b + f4_b\n",
    "        \n",
    "        x_bash[i] = x_bash[i-1] + (h/24)*summ[0]\n",
    "        vx_bash[i] = vx_bash[i-1] + (h/24)*summ[1]\n",
    "        \n",
    "        # Adam multon de orden 5\n",
    "        \n",
    "        f1_m=251*f([x_bash[i],vx_bash[i]],t)\n",
    "        f2_m=646*f([x_bash[i-1],vx_bash[i-1]],t)\n",
    "        f3_m=-264*f([x_bash[i-2],vx_bash[i-2]],t)\n",
    "        f4_m=106*f([x_bash[i-3],vx_bash[i-3]],t)\n",
    "        f5_m=-19*f([x_bash[i-4],vx_bash[i-4]],t)\n",
    "        summ_m=f1_m+f2_m+f3_m+f4_m+f5_m\n",
    "        x_mul[i]= x_mul[i-1] + (h/720)*summ_m[0]\n",
    "        vx_mul[i]= vx_mul[i-1] + (h/720)*summ_m[1]  \n",
    "        \n",
    "    return x_bash,vx_bash,x_mul,vx_mul\n",
    "\n"
   ]
  },
  {
   "cell_type": "code",
   "execution_count": 3,
   "metadata": {},
   "outputs": [],
   "source": [
    "t = np.linspace(0,20,10000)\n",
    "r0 = [0.5,0.]\n",
    "sol= adamsmethod(System,r0,t) # [x_bash,vx_bash,x_mul,vx_mul]\n",
    "\n",
    "solR=Rungekutta(System,r0,t,grado=0)\n"
   ]
  },
  {
   "cell_type": "code",
   "execution_count": 4,
   "metadata": {},
   "outputs": [
    {
     "data": {
      "text/plain": [
       "<matplotlib.collections.PathCollection at 0x1e959bd1b50>"
      ]
     },
     "execution_count": 4,
     "metadata": {},
     "output_type": "execute_result"
    },
    {
     "data": {
      "image/png": "[encoded data removed]",
      "text/plain": [
       "<Figure size 640x480 with 1 Axes>"
      ]
     },
     "metadata": {},
     "output_type": "display_data"
    }
   ],
   "source": [
    "#plt.scatter(solR[0],solR[1],color='red',marker='.')\n",
    "plt.scatter(sol[2],sol[3],color='blue',marker='.')"
   ]
  },
  {
   "cell_type": "code",
   "execution_count": 5,
   "metadata": {},
   "outputs": [
    {
     "data": {
      "text/plain": [
       "3"
      ]
     },
     "execution_count": 5,
     "metadata": {},
     "output_type": "execute_result"
    }
   ],
   "source": [
    "a=np.array([1,2,3])\n",
    "a.shape[0]"
   ]
  },
  {
   "cell_type": "markdown",
   "metadata": {},
   "source": [
    "### Paso adaptativo"
   ]
  },
  {
   "cell_type": "code",
   "execution_count": 21,
   "metadata": {},
   "outputs": [],
   "source": [
    "def increment(f,r0,t,h):\n",
    "    x=r0[0]\n",
    "    v=r0[1]\n",
    "    \n",
    "    R=np.array(([x,v])) #Recordemos que en el vector R van las variables dependientes yn\n",
    "    K1=f(R,t) \n",
    "    \n",
    "    R=np.array(([x+0.5*h*K1[0],v+0.5*h*K1[1]]))\n",
    "    K2=f(R,t+0.5*h)\n",
    "    \n",
    "    R=np.array(([x+0.5*h*K2[0],v+0.5*h*K2[1]]))\n",
    "    K3=f(R,t+0.5*h)\n",
    "    \n",
    "    R=np.array(([x+h*K3[0],v+ h*K3[1]]))\n",
    "    K4=f(R,t+h)\n",
    "    \n",
    "    Delta=(h*(K1 + 2*K2 + 2*K3 + K4))/6\n",
    "    \n",
    "    return r0+Delta\n",
    "\n",
    "\n",
    "def checkpasos(Delta1,Delta2,Delta3,h,minimo=1e-2,maximo=1e-1):\n",
    "    \n",
    "    tolerancia=0.001\n",
    "    Delta1=np.abs(Delta1) # D1 -> h\n",
    "    Delta2=np.abs(Delta2) # D2 ->1.5*h\n",
    "    Delta3=np.abs(Delta3) # D3 -> 0.3*h\n",
    "\n",
    "    \n",
    "    if Delta1 < tolerancia:\n",
    "        \n",
    "        dx=Delta1\n",
    "        h=minimo\n",
    "    else: \n",
    "        if np.abs((Delta1-Delta2))/Delta1 > maximo:\n",
    "            dx=Delta2\n",
    "            h=0.3*h\n",
    "            \n",
    "        if np.abs((Delta1-Delta3))/Delta1 < minimo:\n",
    "            dx=Delta3\n",
    "            h=1.5*h\n",
    "            \n",
    "        else: \n",
    "            dx=Delta1\n",
    "            h=h\n",
    "            \n",
    "    return dx,h\n",
    "\n",
    "def adaptativo(f,r0,t):\n",
    "    \n",
    "    h=t[1]-t[0]\n",
    "    \n",
    "    tf =t[-1]\n",
    "    t2=t[0]\n",
    "    \n",
    "    r=r0\n",
    "    \n",
    "    Tiempo= np.array([t2])\n",
    "    Pasos=np.array([h])\n",
    "    vector=r\n",
    "    \n",
    "    while t2 < tf: \n",
    "        \n",
    "        Delta1 = increment(f,r,t2,h)\n",
    "        Delta2 = increment(f,r,t2,0.5*h)\n",
    "        Delta3 = increment(f,r,t2,2*h)\n",
    "        \n",
    "        Deltas = Delta1.copy()\n",
    "        ht = Delta1.copy()\n",
    "        \n",
    "        for i in range(Delta1.shape[0]):\n",
    "            Deltas[i],ht[i] = checkpasos(Delta1[i],Delta2[i],Delta3[i],h)\n",
    "            \n",
    "        h=np.mean(ht)\n",
    "        \n",
    "        t2+=h\n",
    "        \n",
    "        r=increment(f,r,t2,h)\n",
    "        \n",
    "        Tiempo=np.append(Tiempo,t2)\n",
    "        Pasos=np.append(Pasos,h)\n",
    "        vector=np.vstack((vector,r))\n",
    "        \n",
    "        \n",
    "    return Tiempo,Pasos,vector\n",
    "\n",
    " "
   ]
  },
  {
   "cell_type": "code",
   "execution_count": 22,
   "metadata": {},
   "outputs": [
    {
     "data": {
      "text/plain": [
       "<matplotlib.collections.PathCollection at 0x1e95bdb2350>"
      ]
     },
     "execution_count": 22,
     "metadata": {},
     "output_type": "execute_result"
    },
    {
     "data": {
      "image/png": "[encoded data removed]",
      "text/plain": [
       "<Figure size 640x480 with 1 Axes>"
      ]
     },
     "metadata": {},
     "output_type": "display_data"
    }
   ],
   "source": [
    "t = np.linspace(0,20,100)\n",
    "r0 = np.array([0.5,0.])\n",
    "\n",
    "t1,p,x1=adaptativo(System,r0,t)\n",
    "\n",
    "plt.scatter(x1[:,0],x1[:,1],color='red',marker='.')\n"
   ]
  },
  {
   "cell_type": "code",
   "execution_count": null,
   "metadata": {},
   "outputs": [],
   "source": []
  }
 ],
 "metadata": {
  "kernelspec": {
   "display_name": "Python 3",
   "language": "python",
   "name": "python3"
  },
  "language_info": {
   "codemirror_mode": {
    "name": "ipython",
    "version": 3
   },
   "file_extension": ".py",
   "mimetype": "text/x-python",
   "name": "python",
   "nbconvert_exporter": "python",
   "pygments_lexer": "ipython3",
   "version": "3.11.4"
  }
 },
 "nbformat": 4,
 "nbformat_minor": 2
}
