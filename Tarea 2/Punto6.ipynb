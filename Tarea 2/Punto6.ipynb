{
  "metadata": {
    "kernelspec": {
      "name": "python",
      "display_name": "Python (Pyodide)",
      "language": "python"
    },
    "language_info": {
      "codemirror_mode": {
        "name": "python",
        "version": 3
      },
      "file_extension": ".py",
      "mimetype": "text/x-python",
      "name": "python",
      "nbconvert_exporter": "python",
      "pygments_lexer": "ipython3",
      "version": "3.8"
    }
  },
  "nbformat_minor": 4,
  "nbformat": 4,
  "cells": [
    {
      "cell_type": "code",
      "source": "import numpy as np \nimport math as mt\nimport matplotlib.pyplot as plt\nT=[]\nh=np.arange(0,2.4,1e-4)\ntheta=[]\nct=(0.387098,0.205630,4*(np.pi**2),1.1e-8)\ndef T0Conditions(ct):\n    p0=np.array([ct[0]*(1+ct[1]),0.])\n    v0=np.array([0, (ct[2]*(1-ct[1])/(ct[0]*(1+ct[1]))**(0.5))])\n    p=np.linalg.norm(p0)\n    a0=-p0*((ct[2])/(p**3))*(1+(ct[3]/(p**2)))\n    return (p0,v0,a0)\ndef VerletMethod(t,ic,ct):\n    h= t[1]-t[0]\n    x = np.zeros((len(t),2))\n    v = np.zeros((len(t),2))\n    a = np.zeros((len(t),2))\n    x[0]=ic[0]\n    v[0]=ic[1]\n    a[0]=ic[2]\n    for i in range(len(t)-1):\n        x[i+1] = x[i]+ v[i]*h + (0.5)*a[i]*h**2\n        p=np.linalg.norm(x[i+1])\n        a[i+1]=-x[i+1]*((ct[2])/(p**3))*(1+(ct[3]/(p)**2))\n        v[i+1]=v[i] + (h*(a[i]+a[i+1])/2)\n    return x\nic= T0Conditions(ct)\nd=np.linalg.norm(VerletMethod(h,T0Conditions(ct),ct),axis=1)\n\ndef Update(h,d,t,angle):\n    r=VerletMethod(h,T0Conditions(ct),ct)\n    for i in range(1,len(d)-1):\n        if d[i]>d[i-1] and d[i] < d[i+1]:\n            t.append(h[i])\n            angle.append(np.abs(np.arctan(r[i][1]/r[i][0])*(180/np.pi)))  \n    return t,angle\nu=Update(h,d,T,theta)\nfor i in range(0,5000):\n    u[0].pop(i)\n    u[1].pop(i)\n\nplt.plot(u[0],u[1])\nplt.title(\"Angulo vs Tiempo\")",
      "metadata": {
        "trusted": true
      },
      "outputs": [],
      "execution_count": null
    },
    {
      "cell_type": "code",
      "source": "",
      "metadata": {
        "trusted": true
      },
      "outputs": [],
      "execution_count": null
    },
    {
      "cell_type": "code",
      "source": "",
      "metadata": {
        "trusted": true
      },
      "outputs": [],
      "execution_count": null
    }
  ]
}