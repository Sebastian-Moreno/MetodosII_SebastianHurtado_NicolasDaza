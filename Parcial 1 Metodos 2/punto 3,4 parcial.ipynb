{
 "cells": [
  {
   "cell_type": "code",
   "execution_count": 63,
   "id": "693efd9e",
   "metadata": {},
   "outputs": [],
   "source": [
    "\n",
    "import numpy as np\n",
    "import matplotlib.pyplot as plt\n",
    "import matplotlib.animation as anim\n",
    "from tqdm import tqdm"
   ]
  },
  {
   "cell_type": "code",
   "execution_count": 64,
   "id": "4db3fba5",
   "metadata": {},
   "outputs": [],
   "source": [
    "import numpy as np\n",
    "\n",
    "class Particle:\n",
    "    \n",
    "    def __init__(self, r0, v0, a0, t, m=1, radius=2., Id=0):\n",
    "        \n",
    "        self.dt = t[1] - t[0]\n",
    "        \n",
    "        # Atributos instantaneos\n",
    "        self.r = r0\n",
    "        self.v = v0\n",
    "        self.a = a0\n",
    "        \n",
    "        self.m = m\n",
    "        self.radius = radius\n",
    "        self.Id = Id\n",
    "        \n",
    "        self.p = self.m*self.v\n",
    "        self.f = self.m*self.a\n",
    "        \n",
    "        # Historial\n",
    "        self.R = np.zeros((len(t),len(r0)))\n",
    "        self.V = np.zeros_like(self.R)\n",
    "        self.A = np.zeros_like(self.R)\n",
    "        self.F = np.zeros_like(self.R)\n",
    "        self.P = np.zeros_like(self.R)\n",
    "        \n",
    "        # Fisica\n",
    "        self.K = 20.\n",
    "        self.VEk = np.zeros(len(t))\n",
    "        \n",
    "        # Gravedad\n",
    "        self.gravity = np.array([0, -9.8])  # Aceleración debida a la gravedad\n",
    "    \n",
    "    def Evolution(self, i):\n",
    "        self.SetPosition(i)\n",
    "        self.SetVelocity(i)\n",
    "        \n",
    "        # Actualizar aceleración con la gravedad\n",
    "        self.a = self.f / self.m + self.gravity\n",
    "        \n",
    "        # Euler-Cromer\n",
    "        self.v += self.dt * self.a\n",
    "        self.r += self.dt * self.v\n",
    "        \n",
    "    def CalculateForce(self, p):\n",
    "        d = np.linalg.norm(self.r - p.r)\n",
    "        compresion = self.radius + p.radius - d\n",
    "        \n",
    "        if compresion >= 0:\n",
    "            Fn = self.K * compresion**3\n",
    "            self.n = (self.r - p.r) / d     \n",
    "            self.f = np.add(self.f, Fn * self.n)\n",
    "            # Falta implementar energía potencial \n",
    "            \n",
    "    def ResetForce(self):\n",
    "        self.f[:] = 0.\n",
    "        self.a[:] = 0.\n",
    "    \n",
    "    def SetPosition(self, i):\n",
    "        self.R[i] = self.r\n",
    "    \n",
    "    def SetVelocity(self, i):\n",
    "        self.V[i] = self.v\n",
    "        self.P[i] = self.m * self.v\n",
    "        self.VEk[i] = 0.5 * self.m * np.dot(self.v, self.v)\n",
    "    \n",
    "    def GetPosition(self, scale=1):\n",
    "        return self.R[::scale]\n",
    "    \n",
    "    def GetVelocity(self, scale=1):\n",
    "        return self.V[::scale]\n",
    " \n",
    "    def GetMomentum(self, scale=1):\n",
    "        return self.P[::scale]\n",
    "    \n",
    "    def GetKineticEnergy(self, scale=1):\n",
    "        return self.VEk[::scale] \n",
    "    \n",
    "    def CheckLimits(self):\n",
    "        for i in range(2):\n",
    "            if self.r[i] + self.radius > 20 and self.v[i] > 0.:\n",
    "                self.v[i] = -self.v[i] * 0.9\n",
    "            elif self.r[i] - self.radius < -20 and self.v[i] < 0.:\n",
    "                self.v[i] = -self.v[i] * 0.9\n",
    "                \n",
    "    \n"
   ]
  },
  {
   "cell_type": "code",
   "execution_count": 65,
   "id": "372e6b52",
   "metadata": {},
   "outputs": [],
   "source": [
    "def GetParticles(N,t):\n",
    "    \n",
    "    r0 = np.array([-15.,-10.])\n",
    "    v0 = np.array([2.,0])\n",
    "    a0 = np.array([0.,0.])\n",
    "    \n",
    "    p0 = Particle(r0,v0,a0,t,m=1,radius=2,Id=0)\n",
    "    \n",
    "    Particles = [p0]\n",
    "    \n",
    "    # Aca deber agregar una rutina montecarlo para crear particulas\n",
    "    # sobre el plano con velocidades aleatorias.\n",
    "    \n",
    "    return Particles"
   ]
  },
  {
   "cell_type": "code",
   "execution_count": 66,
   "id": "56e67631",
   "metadata": {},
   "outputs": [],
   "source": [
    "dt = 0.001\n",
    "tmax = 30\n",
    "t = np.arange(0,tmax,dt)\n",
    "Particles = GetParticles(1,t)"
   ]
  },
  {
   "cell_type": "code",
   "execution_count": 67,
   "id": "edf88a8c",
   "metadata": {},
   "outputs": [],
   "source": [
    "def RunSimulation(t,Particles):\n",
    "    \n",
    "    for it in tqdm(range(len(t)), desc='Running simulation', unit=' Steps' ):\n",
    "        \n",
    "        for i in range(len(Particles)):\n",
    "            for j in range(len(Particles)):\n",
    "                if i!=j:\n",
    "                    Particles[i].CalculateForce(Particles[j])\n",
    "        \n",
    "        for i in range(len(Particles)):\n",
    "            Particles[i].Evolution(it)\n",
    "            Particles[i].ResetForce()\n",
    "            Particles[i].CheckLimits()\n",
    "            # Aca debes agregar la interaccion con la pared\n",
    "            \n",
    "            \n",
    "    return Particles"
   ]
  },
  {
   "cell_type": "code",
   "execution_count": 68,
   "id": "bcac242d",
   "metadata": {},
   "outputs": [
    {
     "name": "stderr",
     "output_type": "stream",
     "text": [
      "Running simulation: 100%|██████████| 30000/30000 [00:00<00:00, 40459.33 Steps/s]\n"
     ]
    }
   ],
   "source": [
    "Particles = RunSimulation(t,Particles)"
   ]
  },
  {
   "cell_type": "code",
   "execution_count": 69,
   "id": "32609fcd",
   "metadata": {},
   "outputs": [],
   "source": [
    "# Bajamos dimensión de la simulacion\n",
    "scale = 100\n",
    "t1 = t[::scale]"
   ]
  },
  {
   "cell_type": "code",
   "execution_count": null,
   "id": "97ba705a",
   "metadata": {},
   "outputs": [],
   "source": [
    "fig = plt.figure(figsize=(10,5))\n",
    "ax = fig.add_subplot(121)\n",
    "ax1 = fig.add_subplot(122)\n",
    "\n",
    "def init():\n",
    "    \n",
    "    ax.clear()\n",
    "    ax.set_xlim(-20,20)\n",
    "    ax.set_ylim(-20,20)\n",
    "    \n",
    "def Update(i):\n",
    "    \n",
    "    init()\n",
    "    ax.set_title(r't =  %.3f s' %(t1[i]))\n",
    "    \n",
    "    \n",
    "    # Queremos calcular la energía total de cinética\n",
    "    KE = 0. # Kinetic energy\n",
    "    \n",
    "    for p in Particles:\n",
    "        \n",
    "        x = p.GetPosition(scale)[i,0]\n",
    "        y = p.GetPosition(scale)[i,1]\n",
    "        \n",
    "        vx = p.GetVelocity(scale)[i,0]\n",
    "        vy = p.GetVelocity(scale)[i,1]\n",
    "        \n",
    "        circle = plt.Circle( (x,y), p.radius, color='r', fill=False )\n",
    "        ax.add_patch(circle)\n",
    "        \n",
    "        ax.arrow(x,y,vx,vy,color='k',head_width=0.5,length_includes_head=True)\n",
    "        \n",
    "        KE += p.GetKineticEnergy(scale)[i]\n",
    "        \n",
    "        ax1.set_title(r'Total kinetic Energy: {:.3f}'.format(KE))\n",
    "        ax1.scatter(t1[:i], p.GetKineticEnergy(scale)[:i],color='k',marker='.')\n",
    "        \n",
    "Animation = anim.FuncAnimation(fig,Update,frames=len(t1),init_func=init)"
   ]
  },
  {
   "cell_type": "code",
   "execution_count": 71,
   "id": "c57abf83",
   "metadata": {},
   "outputs": [],
   "source": [
    "#Animation.save('Rebote.gif', writer='pillow',fps=30)"
   ]
  },
  {
   "cell_type": "code",
   "execution_count": 72,
   "id": "1a74d929",
   "metadata": {},
   "outputs": [],
   "source": [
    "MomentumT = Particles[0].GetMomentum(scale)"
   ]
  },
  {
   "cell_type": "code",
   "execution_count": 73,
   "id": "c5812ac9",
   "metadata": {},
   "outputs": [],
   "source": [
    "for i in range(1,len(Particles)):\n",
    "    MomentumT = np.add(MomentumT,Particles[i].GetMomentum(scale))"
   ]
  },
  {
   "cell_type": "code",
   "execution_count": 74,
   "id": "089b50b5",
   "metadata": {},
   "outputs": [
    {
     "data": {
      "text/plain": [
       "<matplotlib.legend.Legend at 0x2a840c60090>"
      ]
     },
     "execution_count": 74,
     "metadata": {},
     "output_type": "execute_result"
    },
    {
     "data": {
      "image/png": "[encoded data removed]",
      "text/plain": [
       "<Figure size 1000x500 with 1 Axes>"
      ]
     },
     "metadata": {},
     "output_type": "display_data"
    }
   ],
   "source": [
    "fig3 = plt.figure(figsize=(10,5))\n",
    "ax3 = fig3.add_subplot(221)\n",
    "ax3.plot(t1,MomentumT[:,0],label='px')\n",
    "ax3.plot(t1,MomentumT[:,1],label='py')\n",
    "ax3.legend()"
   ]
  },
  {
   "cell_type": "markdown",
   "id": "a57cdf66",
   "metadata": {},
   "source": [
    "### Grafica distancia 'y' en funcion del tiempo\n",
    "\n"
   ]
  },
  {
   "cell_type": "code",
   "execution_count": 75,
   "id": "5928b227",
   "metadata": {},
   "outputs": [
    {
     "data": {
      "image/png": "[encoded data removed]",
      "text/plain": [
       "<Figure size 640x480 with 1 Axes>"
      ]
     },
     "metadata": {},
     "output_type": "display_data"
    }
   ],
   "source": [
    "distancia=Particles[0].GetPosition(scale)\n",
    "\n",
    "plt.plot(t1,distancia[:,1])\n",
    "plt.show()"
   ]
  },
  {
   "cell_type": "markdown",
   "id": "6e07f9b1",
   "metadata": {},
   "source": [
    "Como se puede observar en la grafica alrededor del segundo 23 la pelota deja de rebotar"
   ]
  },
  {
   "cell_type": "markdown",
   "id": "e871ae6a",
   "metadata": {},
   "source": [
    "### Calculo del amortiguamiento\n",
    "\n"
   ]
  },
  {
   "cell_type": "code",
   "execution_count": 81,
   "id": "adce5376",
   "metadata": {},
   "outputs": [
    {
     "name": "stdout",
     "output_type": "stream",
     "text": [
      "El amortiguamiento es aproximadamente:0.9310388039444714 \n"
     ]
    }
   ],
   "source": [
    "\n",
    "y=distancia[:,1]\n",
    "puntos_maximos=[y[0]]\n",
    "for i in range(1,len(y)):\n",
    "    \n",
    "    if y[i-1] < y[i] and y[i+1] < y[i]:\n",
    "        puntos_maximos.append(y[i])\n",
    "        break\n",
    "    \n",
    "amortigamiento = ((puntos_maximos[0]/puntos_maximos[1]))**0.5\n",
    "    \n",
    "print(f'El amortiguamiento es aproximadamente:{amortigamiento} ')"
   ]
  },
  {
   "cell_type": "markdown",
   "id": "1b09c578",
   "metadata": {},
   "source": [
    "### Punto 4\n",
    "\n",
    "Punto e sin runge kutha"
   ]
  },
  {
   "cell_type": "code",
   "execution_count": 83,
   "id": "53452ed5",
   "metadata": {},
   "outputs": [
    {
     "data": {
      "text/plain": [
       "<matplotlib.collections.PathCollection at 0x2a840feed50>"
      ]
     },
     "execution_count": 83,
     "metadata": {},
     "output_type": "execute_result"
    },
    {
     "data": {
      "image/png": "[encoded data removed]",
      "text/plain": [
       "<Figure size 640x480 with 1 Axes>"
      ]
     },
     "metadata": {},
     "output_type": "display_data"
    }
   ],
   "source": [
    "theta=np.linspace(np.pi/2,0,50)\n",
    "\n",
    "y=0.5*np.cos(theta)\n",
    "\n",
    "x=0.5*np.sin(theta)\n",
    "\n",
    "plt.scatter(x,y,color='r')"
   ]
  },
  {
   "cell_type": "markdown",
   "id": "14f7fd5b",
   "metadata": {},
   "source": [
    "Punto F"
   ]
  },
  {
   "cell_type": "code",
   "execution_count": 98,
   "id": "680c19cc",
   "metadata": {},
   "outputs": [],
   "source": [
    "def System(r,t,g,L):\n",
    "    \n",
    "    dthetadt=r[1]\n",
    "    \n",
    "    dtheta2dt=(((2*g/L)- dthetadt**2 * np.cos(t))*np.sin(t)) / ((1/3)+np.sin(t)**2)\n",
    "     \n",
    "    return[dthetadt,dtheta2dt]\n",
    "\n",
    "\n",
    "def Integrator2(f,r,t,g,L):\n",
    "\n",
    "    h = t[1] - t[0]\n",
    "    \n",
    "    theta = np.zeros_like(t)\n",
    "    v_theta = np.zeros_like(t)\n",
    "\n",
    "    theta[0] = r[0]\n",
    "    v_theta[0] = r[1]\n",
    "    \n",
    "    K1 = np.zeros(2)\n",
    "    K2 = np.zeros(2)\n",
    "    \n",
    "    # Las pendientes instantaneas\n",
    "    R = np.zeros(2)\n",
    "\n",
    "    for i in range(1,len(t)):\n",
    "        \n",
    "        R = np.array([theta[i-1],v_theta[i-1]])\n",
    "        \n",
    "        K1 = f(R,t[i-1],g,L)\n",
    "        R = np.array([theta[i-1]+h*K1[0],v_theta[i-1]+h*K1[1]])\n",
    "        \n",
    "        K2 = f(R,t[i-1]+h,g,L)\n",
    "        \n",
    "        theta[i] = theta[i-1] + 0.5*h*(K1[0]+K2[0])\n",
    "        v_theta[i] = v_theta[i-1] + 0.5*h*(K1[1]+K2[1])\n",
    "        \n",
    "        \n",
    "    return x,y\n"
   ]
  },
  {
   "cell_type": "code",
   "execution_count": 97,
   "id": "d39a7670",
   "metadata": {},
   "outputs": [
    {
     "name": "stderr",
     "output_type": "stream",
     "text": [
      "C:\\Users\\Sebastian Hurtado\\AppData\\Local\\Temp\\ipykernel_23808\\2274959670.py:5: RuntimeWarning: overflow encountered in scalar power\n",
      "  dtheta2dt=(((2*g/L)-dthetadt**2 * np.cos(t))*np.sin(t))/((1/3)+np.sin(t)**2)\n",
      "C:\\Users\\Sebastian Hurtado\\AppData\\Local\\Temp\\ipykernel_23808\\2274959670.py:36: RuntimeWarning: invalid value encountered in scalar add\n",
      "  v_theta[i] = v_theta[i-1] + 0.5*h*(K1[1]+K2[1])\n"
     ]
    }
   ],
   "source": [
    "t=np.linspace(0,10000,1000)\n",
    "r0=[np.pi/18,0]\n",
    "theta,v_theta=Integrator2(System,r0,t,9.8,1)\n"
   ]
  },
  {
   "cell_type": "markdown",
   "id": "0875935d",
   "metadata": {},
   "source": [
    "#### Punto e con rungekutha"
   ]
  },
  {
   "cell_type": "code",
   "execution_count": 95,
   "id": "c352d9e3",
   "metadata": {},
   "outputs": [
    {
     "data": {
      "text/plain": [
       "<matplotlib.collections.PathCollection at 0x2a83eb8fbd0>"
      ]
     },
     "execution_count": 95,
     "metadata": {},
     "output_type": "execute_result"
    },
    {
     "data": {
      "image/png": "[encoded data removed]",
      "text/plain": [
       "<Figure size 640x480 with 1 Axes>"
      ]
     },
     "metadata": {},
     "output_type": "display_data"
    }
   ],
   "source": [
    "y=0.5*np.cos(theta)\n",
    "x=0.5*np.sin(theta)\n",
    "plt.scatter(x,y)"
   ]
  },
  {
   "cell_type": "code",
   "execution_count": null,
   "id": "4694392d",
   "metadata": {},
   "outputs": [],
   "source": []
  }
 ],
 "metadata": {
  "kernelspec": {
   "display_name": "Python 3 (ipykernel)",
   "language": "python",
   "name": "python3"
  },
  "language_info": {
   "codemirror_mode": {
    "name": "ipython",
    "version": 3
   },
   "file_extension": ".py",
   "mimetype": "text/x-python",
   "name": "python",
   "nbconvert_exporter": "python",
   "pygments_lexer": "ipython3",
   "version": "3.11.4"
  }
 },
 "nbformat": 4,
 "nbformat_minor": 5
}
